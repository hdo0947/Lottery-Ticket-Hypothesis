{
 "cells": [
  {
   "cell_type": "code",
   "execution_count": 3,
   "metadata": {},
   "outputs": [],
   "source": [
    "import torch\n",
    "\n",
    "from models import checkpoint_weights\n",
    "from prune_fns import prune_model"
   ]
  },
  {
   "cell_type": "code",
   "execution_count": 29,
   "metadata": {},
   "outputs": [
    {
     "name": "stdout",
     "output_type": "stream",
     "text": [
      "Downloading https://github.com/kimiyoung/planetoid/raw/master/data/ind.citeseer.x\n",
      "Downloading https://github.com/kimiyoung/planetoid/raw/master/data/ind.citeseer.tx\n",
      "Downloading https://github.com/kimiyoung/planetoid/raw/master/data/ind.citeseer.allx\n",
      "Downloading https://github.com/kimiyoung/planetoid/raw/master/data/ind.citeseer.y\n",
      "Downloading https://github.com/kimiyoung/planetoid/raw/master/data/ind.citeseer.ty\n",
      "Downloading https://github.com/kimiyoung/planetoid/raw/master/data/ind.citeseer.ally\n",
      "Downloading https://github.com/kimiyoung/planetoid/raw/master/data/ind.citeseer.graph\n",
      "Downloading https://github.com/kimiyoung/planetoid/raw/master/data/ind.citeseer.test.index\n",
      "Processing...\n",
      "Done!\n"
     ]
    }
   ],
   "source": [
    "from torch_geometric.datasets import Planetoid\n",
    "\n",
    "dataset = Planetoid(root='/Citeseer', name='Citeseer')"
   ]
  },
  {
   "cell_type": "code",
   "execution_count": 5,
   "metadata": {},
   "outputs": [],
   "source": [
    "import torch.nn as nn\n",
    "import torch.nn.functional as F\n",
    "from torch_geometric.nn import GCNConv\n",
    "\n",
    "class GCN(nn.Module):\n",
    "    def __init__(self, input_units, hidden_units, output_units, device):\n",
    "        super(GCN, self).__init__()\n",
    "        self.conv1 = GCNConv(input_units, hidden_units, improved=True)\n",
    "        self.conv2 = GCNConv(hidden_units, output_units, improved=True)\n",
    "        \n",
    "        self.dropout = nn.Dropout()\n",
    "        self.device = device\n",
    "        \n",
    "    def forward(self, data):\n",
    "        x, edge_index = data.x, data.edge_index\n",
    "        \n",
    "        x = self.conv1(x, edge_index)\n",
    "        x = self.dropout(F.relu(x))\n",
    "        return self.conv2(x, edge_index)\n",
    "        \n",
    "class GCN_CEL_crit(nn.Module):\n",
    "    def __init__(self, data_train_mask):\n",
    "        super(GCN_CEL_crit, self).__init__()\n",
    "        self.train_mask = data_train_mask\n",
    "        self.cel = nn.CrossEntropyLoss()\n",
    "        \n",
    "    def forward(self, y_pred, y_true):\n",
    "        if self.training:\n",
    "            return self.cel(y_pred[self.train_mask], y_true[self.train_mask])\n",
    "        return self.cel(y_pred, y_true)"
   ]
  },
  {
   "cell_type": "code",
   "execution_count": 30,
   "metadata": {},
   "outputs": [],
   "source": [
    "device = torch.device('cuda' if torch.cuda.is_available() else 'cpu')\n",
    "model = GCN(dataset.num_node_features, 32, dataset.num_classes, device).to(device)\n",
    "data = dataset[0].to(device)\n",
    "opt = torch.optim.Adam(model.parameters(), lr=0.01, weight_decay=5e-4)\n",
    "\n",
    "crit = GCN_CEL_crit(data.train_mask)"
   ]
  },
  {
   "cell_type": "code",
   "execution_count": 26,
   "metadata": {},
   "outputs": [],
   "source": [
    "def GCN_params_fn(model):\n",
    "    return [(model.conv1, \"weight\"),]"
   ]
  },
  {
   "cell_type": "code",
   "execution_count": 32,
   "metadata": {},
   "outputs": [],
   "source": [
    "checkpoint_weights(model, GCN_params_fn)"
   ]
  },
  {
   "cell_type": "code",
   "execution_count": 31,
   "metadata": {},
   "outputs": [
    {
     "name": "stdout",
     "output_type": "stream",
     "text": [
      "118726\n",
      "118496\n",
      "0.9980627663696242\n"
     ]
    }
   ],
   "source": [
    "count = 0\n",
    "nonzero = 0\n",
    "with torch.no_grad():\n",
    "    for param in model.parameters():\n",
    "        count += torch.numel(param)\n",
    "    for param in GCN_params_fn(model):\n",
    "        nonzero += torch.count_nonzero(param[0].weight).item()\n",
    "print(count)\n",
    "print(nonzero)\n",
    "print(nonzero / count)"
   ]
  },
  {
   "cell_type": "code",
   "execution_count": 8,
   "metadata": {},
   "outputs": [
    {
     "name": "stdout",
     "output_type": "stream",
     "text": [
      "Accuracy: 0.7990\n"
     ]
    }
   ],
   "source": [
    "model.train()\n",
    "opt = torch.optim.Adam(model.parameters(), lr=0.01, weight_decay=5e-4)\n",
    "for epoch in range(200):\n",
    "    opt.zero_grad()\n",
    "    y = model(data)\n",
    "    loss = crit(y, data.y)\n",
    "    loss.backward()\n",
    "    opt.step()\n",
    "\n",
    "model.eval()\n",
    "_, y_test = model(data).max(dim=1)\n",
    "correct = int(y_test[data.test_mask].eq(data.y[data.test_mask]).sum().item())\n",
    "acc = correct / int(data.test_mask.sum())\n",
    "print('Accuracy: {:.4f}'.format(acc))    "
   ]
  },
  {
   "cell_type": "code",
   "execution_count": 33,
   "metadata": {},
   "outputs": [
    {
     "name": "stdout",
     "output_type": "stream",
     "text": [
      "Accuracy: 0.6800\n",
      "Accuracy: 0.6770\n",
      "Accuracy: 0.6760\n",
      "Accuracy: 0.6650\n",
      "Accuracy: 0.7040\n",
      "Accuracy: 0.6860\n",
      "Accuracy: 0.6980\n",
      "Accuracy: 0.6730\n",
      "Accuracy: 0.6840\n",
      "Accuracy: 0.6800\n",
      "Accuracy: 0.6840\n",
      "Accuracy: 0.6760\n",
      "Accuracy: 0.6720\n",
      "Accuracy: 0.6680\n",
      "Accuracy: 0.6790\n",
      "Accuracy: 0.6790\n",
      "Accuracy: 0.6740\n",
      "Accuracy: 0.6660\n",
      "Accuracy: 0.6720\n",
      "Accuracy: 0.6660\n",
      "Accuracy: 0.6630\n",
      "Accuracy: 0.6600\n",
      "Accuracy: 0.6600\n",
      "Accuracy: 0.6540\n",
      "Accuracy: 0.6550\n",
      "Accuracy: 0.6570\n",
      "Accuracy: 0.6510\n",
      "Accuracy: 0.6550\n",
      "Accuracy: 0.6410\n",
      "Accuracy: 0.6450\n",
      "Accuracy: 0.6790\n",
      "Accuracy: 0.6780\n",
      "Accuracy: 0.6740\n",
      "Accuracy: 0.6830\n",
      "Accuracy: 0.6930\n",
      "Accuracy: 0.7020\n",
      "Accuracy: 0.6890\n",
      "Accuracy: 0.6920\n",
      "Accuracy: 0.6890\n",
      "Accuracy: 0.6860\n",
      "Accuracy: 0.6810\n",
      "Accuracy: 0.6680\n",
      "Accuracy: 0.6800\n",
      "Accuracy: 0.6680\n",
      "Accuracy: 0.6730\n",
      "Accuracy: 0.6740\n",
      "Accuracy: 0.6720\n",
      "Accuracy: 0.6710\n",
      "Accuracy: 0.6690\n",
      "Accuracy: 0.6660\n",
      "Accuracy: 0.6640\n",
      "Accuracy: 0.6690\n",
      "Accuracy: 0.6630\n",
      "Accuracy: 0.6650\n",
      "Accuracy: 0.6520\n",
      "Accuracy: 0.6540\n",
      "Accuracy: 0.6340\n",
      "Accuracy: 0.6310\n",
      "Accuracy: 0.6320\n",
      "Accuracy: 0.6290\n",
      "Accuracy: 0.6820\n",
      "Accuracy: 0.6730\n",
      "Accuracy: 0.6810\n",
      "Accuracy: 0.6840\n",
      "Accuracy: 0.6880\n",
      "Accuracy: 0.6850\n",
      "Accuracy: 0.6880\n",
      "Accuracy: 0.6770\n",
      "Accuracy: 0.6830\n",
      "Accuracy: 0.6940\n",
      "Accuracy: 0.6790\n",
      "Accuracy: 0.6640\n",
      "Accuracy: 0.6810\n",
      "Accuracy: 0.6800\n",
      "Accuracy: 0.6780\n",
      "Accuracy: 0.6680\n",
      "Accuracy: 0.6740\n",
      "Accuracy: 0.6600\n",
      "Accuracy: 0.6720\n",
      "Accuracy: 0.6690\n",
      "Accuracy: 0.6700\n",
      "Accuracy: 0.6610\n",
      "Accuracy: 0.6620\n",
      "Accuracy: 0.6530\n",
      "Accuracy: 0.6600\n",
      "Accuracy: 0.6590\n",
      "Accuracy: 0.6570\n",
      "Accuracy: 0.6550\n",
      "Accuracy: 0.6350\n",
      "Accuracy: 0.6460\n",
      "Accuracy: 0.6820\n",
      "Accuracy: 0.6880\n",
      "Accuracy: 0.6840\n",
      "Accuracy: 0.6900\n",
      "Accuracy: 0.6810\n",
      "Accuracy: 0.6880\n",
      "Accuracy: 0.6840\n",
      "Accuracy: 0.6750\n",
      "Accuracy: 0.6870\n",
      "Accuracy: 0.6840\n",
      "Accuracy: 0.7070\n",
      "Accuracy: 0.6810\n",
      "Accuracy: 0.6870\n",
      "Accuracy: 0.6850\n",
      "Accuracy: 0.6870\n",
      "Accuracy: 0.6740\n",
      "Accuracy: 0.6650\n",
      "Accuracy: 0.6840\n",
      "Accuracy: 0.6700\n",
      "Accuracy: 0.6630\n",
      "Accuracy: 0.6630\n",
      "Accuracy: 0.6520\n",
      "Accuracy: 0.6660\n",
      "Accuracy: 0.6630\n",
      "Accuracy: 0.6690\n",
      "Accuracy: 0.6490\n",
      "Accuracy: 0.6640\n",
      "Accuracy: 0.6500\n",
      "Accuracy: 0.6500\n",
      "Accuracy: 0.6410\n",
      "Accuracy: 0.6930\n",
      "Accuracy: 0.6780\n",
      "Accuracy: 0.6620\n",
      "Accuracy: 0.6870\n",
      "Accuracy: 0.6800\n",
      "Accuracy: 0.6610\n",
      "Accuracy: 0.6870\n",
      "Accuracy: 0.6680\n",
      "Accuracy: 0.6710\n",
      "Accuracy: 0.6670\n",
      "Accuracy: 0.6760\n",
      "Accuracy: 0.6750\n",
      "Accuracy: 0.6850\n",
      "Accuracy: 0.6680\n",
      "Accuracy: 0.6790\n",
      "Accuracy: 0.6780\n",
      "Accuracy: 0.6820\n",
      "Accuracy: 0.6680\n",
      "Accuracy: 0.6800\n",
      "Accuracy: 0.6600\n",
      "Accuracy: 0.6630\n",
      "Accuracy: 0.6600\n",
      "Accuracy: 0.6590\n",
      "Accuracy: 0.6510\n",
      "Accuracy: 0.6520\n",
      "Accuracy: 0.6470\n",
      "Accuracy: 0.6550\n",
      "Accuracy: 0.6420\n",
      "Accuracy: 0.6310\n",
      "Accuracy: 0.6090\n"
     ]
    }
   ],
   "source": [
    "import numpy as np\n",
    "test_acc = np.empty((10, 30))\n",
    "for i in range(5):\n",
    "    model = GCN(dataset.num_node_features, 32, dataset.num_classes, device).to(device)\n",
    "    checkpoint_weights(model, GCN_params_fn)\n",
    "    for prune_itr in range(30):\n",
    "        opt = torch.optim.Adam(model.parameters(), lr=0.01, weight_decay=5e-4)\n",
    "        for epoch in range(200):\n",
    "            opt.zero_grad()\n",
    "            y = model(data)\n",
    "            loss = crit(y, data.y)\n",
    "            loss.backward()\n",
    "            opt.step()\n",
    "\n",
    "        model.eval()\n",
    "        _, y_test = model(data).max(dim=1)\n",
    "        correct = int(y_test[data.test_mask].eq(data.y[data.test_mask]).sum().item())\n",
    "        acc = correct / int(data.test_mask.sum())\n",
    "        test_acc[i][prune_itr] = acc\n",
    "        print('Accuracy: {:.4f}'.format(acc))    \n",
    "        prune_model(model, 0.2, GCN_params_fn, device)\n",
    "        model.train()"
   ]
  },
  {
   "cell_type": "code",
   "execution_count": 42,
   "metadata": {},
   "outputs": [
    {
     "data": {
      "image/png": "[encoded data removed]",
      "text/plain": [
       "<Figure size 432x288 with 1 Axes>"
      ]
     },
     "metadata": {
      "needs_background": "light"
     },
     "output_type": "display_data"
    }
   ],
   "source": [
    "import matplotlib.pyplot as plt\n",
    "avg_test = np.mean(test_acc, axis=0)\n",
    "d_test_acc = [(i-avg_test[0])*100 for i in avg_test]\n",
    "plt.plot(d_test_acc)\n",
    "plt.xticks(ticks=[i for i in range(0,30,3)], labels=[\"{:.3f}\".format(0.8**i) for i in range(0,30,3)])\n",
    "plt.xlabel(\"Pct Weights Remaining\")\n",
    "plt.ylabel(\"Pct Change Accuracy\")\n",
    "plt.show()"
   ]
  },
  {
   "cell_type": "code",
   "execution_count": 23,
   "metadata": {},
   "outputs": [
    {
     "data": {
      "text/plain": [
       "<Figure size 432x288 with 0 Axes>"
      ]
     },
     "metadata": {},
     "output_type": "display_data"
    }
   ],
   "source": [
    "plt.savefig(\"gcn_prune_fig.png\")"
   ]
  },
  {
   "cell_type": "code",
   "execution_count": 21,
   "metadata": {},
   "outputs": [],
   "source": [
    "%matplotlib inline"
   ]
  },
  {
   "cell_type": "code",
   "execution_count": 41,
   "metadata": {},
   "outputs": [],
   "source": [
    "test_acc[test_acc > 10000] = 0"
   ]
  },
  {
   "cell_type": "code",
   "execution_count": null,
   "metadata": {},
   "outputs": [],
   "source": []
  }
 ],
 "metadata": {
  "kernelspec": {
   "display_name": "Python 3",
   "language": "python",
   "name": "python3"
  },
  "language_info": {
   "codemirror_mode": {
    "name": "ipython",
    "version": 3
   },
   "file_extension": ".py",
   "mimetype": "text/x-python",
   "name": "python",
   "nbconvert_exporter": "python",
   "pygments_lexer": "ipython3",
   "version": "3.8.5"
  }
 },
 "nbformat": 4,
 "nbformat_minor": 4
}
