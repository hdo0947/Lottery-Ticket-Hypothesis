{
 "cells": [
  {
   "cell_type": "code",
   "execution_count": 1,
   "metadata": {},
   "outputs": [],
   "source": [
    "import copy\n",
    "import torch\n",
    "import torch.nn as nn\n",
    "import torch.nn.functional as F\n",
    "import torchvision\n",
    "import matplotlib.pyplot as plt\n",
    "import checkpoint\n",
    "import torch.nn.utils.prune as prune\n",
    "from torchvision import transforms\n",
    "\n",
    "from dataset import MNIST_Dataset, CIFAR10_Dataset\n",
    "from prune_fns import prune_model\n",
    "from train import train, train_kd, test, KnowledgeDistill_Loss\n",
    "import models\n",
    "from checkpoint import restore_checkpoint"
   ]
  },
  {
   "cell_type": "code",
   "execution_count": 2,
   "metadata": {},
   "outputs": [],
   "source": [
    "device = torch.device(\"cuda:0\" if (torch.cuda.is_available()) else \"cpu\")\n",
    "resnet18 = models.load_resnet18(num_out_class=10, device=device, pretrained=False)\n",
    "\n",
    "opt = torch.optim.SGD(resnet18.parameters(), lr=0.1, momentum=0.9, weight_decay=0.0001)\n",
    "scheduler = torch.optim.lr_scheduler.MultiStepLR(opt, [90, 136])\n",
    "crit = nn.CrossEntropyLoss()\n",
    "config = {\n",
    "    'num_epoch' : 180,\n",
    "    'lr' : 0.001,\n",
    "    'beta1' : 0.9,\n",
    "    'batch_size' : 128,\n",
    "    'ckpt_path' : 'D:/checkpoints/kd_test/resnet18_0/',\n",
    "    'device' : device,\n",
    "    'val_freq' : 1000,\n",
    "    'opt' : opt,\n",
    "    'crit' : crit,\n",
    "    'scheduler' : scheduler,\n",
    "}"
   ]
  },
  {
   "cell_type": "code",
   "execution_count": 3,
   "metadata": {},
   "outputs": [],
   "source": [
    "dataset = CIFAR10_Dataset(config['batch_size'], dataset_path=\"./\", device=config['device'], val=5000)"
   ]
  },
  {
   "cell_type": "code",
   "execution_count": 4,
   "metadata": {},
   "outputs": [],
   "source": [
    "def conv_modules(resnet18):\n",
    "    conv_modules = list()\n",
    "    conv_modules.append((resnet18.conv1, \"weight\"))\n",
    "\n",
    "    for m in (resnet18.layer1, resnet18.layer2, resnet18.layer3, resnet18.layer4):\n",
    "        for i in range(2):\n",
    "            conv_modules.append((m[i].conv1, \"weight\"))\n",
    "            conv_modules.append((m[i].conv2, \"weight\"))\n",
    "            \n",
    "    return conv_modules"
   ]
  },
  {
   "cell_type": "code",
   "execution_count": null,
   "metadata": {},
   "outputs": [],
   "source": [
    "results = train(config, dataset, resnet18, save_weights_iter=500, params_to_save=conv_modules)"
   ]
  },
  {
   "cell_type": "code",
   "execution_count": null,
   "metadata": {},
   "outputs": [],
   "source": [
    "sd = resnet18.state_dict()\n",
    "\n",
    "teacher = models.load_resnet18(10, device)\n",
    "teacher.load_state_dict(sd)\n",
    "\n",
    "resnet18_kd = models.load_resnet18(10, device)\n",
    "resnet18_kd.load_state_dict(sd)\n",
    "\n",
    "weight_init_tensors = dict()\n",
    "for i, (module, name) in enumerate(conv_modules(resnet18)):\n",
    "    weight_init = module.weight_init.detach().clone()\n",
    "    kd_modules = conv_modules(resnet18_kd)\n",
    "    setattr(kd_modules[i][0], \"weight_init\", weight_init)\n",
    "    weight_init_tensors[i] = weight_init\n",
    "\n",
    "#torch.save(weight_init_tensors, \"resnet_kd_init\")"
   ]
  },
  {
   "cell_type": "code",
   "execution_count": null,
   "metadata": {},
   "outputs": [],
   "source": [
    "sd = resnet18.state_dict()\n",
    "\n",
    "teacher = models.load_resnet18(10, device)\n",
    "teacher.load_state_dict(sd)\n",
    "\n",
    "resnet18_kd = models.load_resnet18(10, device)\n",
    "resnet18_kd.load_state_dict(sd)\n",
    "\n",
    "weight_init_tensors = torch.load(\"resnet_kd_init\")\n",
    "for i, (module, name) in enumerate(conv_modules(resnet18)):\n",
    "    kd_modules = conv_modules(resnet18_kd)\n",
    "\n",
    "    setattr(kd_modules[i][0], \"weight_init\", weight_init_tensors[i].clone())\n",
    "    setattr(module, \"weight_init\", weight_init_tensors[i].clone())\n",
    "\n"
   ]
  },
  {
   "cell_type": "code",
   "execution_count": null,
   "metadata": {},
   "outputs": [],
   "source": [
    "config['crit_teacher'] = KnowledgeDistill_Loss(teacher, alpha=0)\n",
    "config['num_epoch'] = 180\n",
    "\n",
    "prune_model(resnet18_kd, 0.2, conv_modules, device)\n",
    "prune_model(resnet18, 0.2, conv_modules, device)\n",
    "\n",
    "config['opt'] = torch.optim.SGD(resnet18_kd.parameters(), lr=0.1, momentum=0.9, weight_decay=0.0001)\n",
    "config['scheduler'] = torch.optim.lr_scheduler.MultiStepLR(opt, [90, 136])\n",
    "config['ckpt_path'] = 'D:/checkpoints/kd_test/resnet18_kd_2/'\n",
    "results2 = train_kd(config, dataset, resnet18_kd, save_weights_iter=500, params_to_save=conv_modules)"
   ]
  },
  {
   "cell_type": "code",
   "execution_count": null,
   "metadata": {},
   "outputs": [],
   "source": [
    "config['num_epoch'] = 180\n",
    "config['crit_teacher'] = KnowledgeDistill_Loss(teacher, alpha=0.5)\n",
    "results2 = train_kd(config, dataset, resnet18_kd, save_weights_iter=500, params_to_save=conv_modules)"
   ]
  },
  {
   "cell_type": "code",
   "execution_count": null,
   "metadata": {},
   "outputs": [],
   "source": [
    "config['num_epoch'] = 80\n",
    "\n",
    "config['opt'] = torch.optim.SGD(resnet18.parameters(), lr=0.1, momentum=0.9, weight_decay=0.0001)\n",
    "config['scheduler'] = torch.optim.lr_scheduler.MultiStepLR(opt, [90, 136])\n",
    "config['ckpt_path'] = 'D:/checkpoints/kd_test/resnet18_1/'\n",
    "\n",
    "results1 = train(config, dataset, resnet18, save_weights_iter=500, params_to_save=conv_modules)"
   ]
  },
  {
   "cell_type": "code",
   "execution_count": 9,
   "metadata": {},
   "outputs": [
    {
     "name": "stdout",
     "output_type": "stream",
     "text": [
      "Which epoch to load from? Choose from epochs below:\n",
      "[0, 1, 2, 3, 4, 5, 6, 7, 8, 9, 10, 11, 12, 13, 14, 15, 16, 17, 18, 19, 20, 21, 22, 23, 24, 25, 26, 27, 28, 29, 30, 31, 32, 33, 34, 35, 36, 37, 38, 39, 40, 41, 42, 43, 44, 45, 46, 47, 48, 49, 50, 51, 52, 53, 54, 55, 56, 57, 58, 59, 60, 61, 62, 63, 64, 65, 66, 67, 68, 69, 70, 71, 72, 73, 74, 75, 76, 77, 78, 79, 80]\n",
      "Enter 0 to train from scratch.\n",
      ">> "
     ]
    },
    {
     "name": "stdin",
     "output_type": "stream",
     "text": [
      " 80\n"
     ]
    },
    {
     "name": "stdout",
     "output_type": "stream",
     "text": [
      "Loading from checkpoint D:/checkpoints/kd_test/resnet18_1/epoch=80.checkpoint.pth.tar\n",
      "=> Successfully restored checkpoint (trained for 80 epochs)\n",
      "Which epoch to load from? Choose from epochs below:\n",
      "[0, 1, 2, 3, 4, 5, 6, 7, 8, 9, 10, 11, 12, 13, 14, 15, 16, 17, 18, 19, 20, 21, 22, 23, 24, 25, 26, 27, 28, 29, 30, 31, 32, 33, 34, 35, 36, 37, 38, 39, 40, 41, 42, 43, 44, 45, 46, 47, 48, 49, 50, 51, 52, 53, 54, 55, 56, 57, 58, 59, 60, 61, 62, 63, 64, 65, 66, 67, 68, 69, 70, 71, 72, 73, 74, 75, 76, 77, 78, 79, 80, 81, 82, 83]\n",
      "Enter 0 to train from scratch.\n",
      ">> "
     ]
    },
    {
     "name": "stdin",
     "output_type": "stream",
     "text": [
      " 80\n"
     ]
    },
    {
     "name": "stdout",
     "output_type": "stream",
     "text": [
      "Loading from checkpoint D:/checkpoints/kd_test/resnet18_kd_1\\epoch=80.checkpoint.pth.tar\n",
      "=> Successfully restored checkpoint (trained for 80 epochs)\n",
      "Which epoch to load from? Choose from epochs below:\n",
      "[0, 1, 2, 3, 4, 5, 6, 7, 8, 9, 10, 11, 12, 13, 14, 15, 16, 17, 18, 19, 20, 21, 22, 23, 24, 25, 26, 27, 28, 29, 30, 31, 32, 33, 34, 35, 36, 37, 38, 39, 40, 41, 42, 43, 44, 45, 46, 47, 48, 49, 50, 51, 52, 53, 54, 55, 56, 57, 58, 59, 60, 61, 62, 63, 64, 65, 66, 67, 68, 69, 70, 71, 72, 73, 74, 75, 76, 77, 78, 79, 80, 81, 82, 83, 84, 85, 86, 87, 88, 89, 90, 91, 92, 93, 94, 95, 96, 97, 98, 99, 100, 101, 102, 103, 104, 105, 106, 107, 108, 109, 110, 111, 112]\n",
      "Enter 0 to train from scratch.\n",
      ">> "
     ]
    },
    {
     "name": "stdin",
     "output_type": "stream",
     "text": [
      " 80\n"
     ]
    },
    {
     "name": "stdout",
     "output_type": "stream",
     "text": [
      "Loading from checkpoint D:/checkpoints/kd_test/resnet18_kd_2/epoch=80.checkpoint.pth.tar\n",
      "=> Successfully restored checkpoint (trained for 80 epochs)\n"
     ]
    }
   ],
   "source": [
    "# Load data to plot results:\n",
    "config['num_epoch'] = 80\n",
    "config['crit_teacher'] = None\n",
    "\n",
    "weight_init_tensors = torch.load(\"resnet_kd_init\")\n",
    "for i, (module, name) in enumerate(conv_modules(resnet18)):\n",
    "    setattr(module, \"weight_init\", weight_init_tensors[i].clone())\n",
    "\n",
    "prune_model(resnet18, 0.0, conv_modules, device)\n",
    "# alpha=1\n",
    "config['ckpt_path'] = 'D:/checkpoints/kd_test/resnet18_1/'\n",
    "results1 = train(config, dataset, resnet18, save_weights_iter=500, params_to_save=conv_modules)\n",
    "\n",
    "# alpha=0.5\n",
    "config['ckpt_path'] = 'D:/checkpoints/kd_test/resnet18_kd_1'\n",
    "results2 = train_kd(config, dataset, resnet18, save_weights_iter=500, params_to_save=conv_modules)\n",
    "\n",
    "# alpha=0\n",
    "config['ckpt_path'] = 'D:/checkpoints/kd_test/resnet18_kd_2/'\n",
    "results3 = train_kd(config, dataset, resnet18, save_weights_iter=500, params_to_save=conv_modules)"
   ]
  },
  {
   "cell_type": "code",
   "execution_count": 37,
   "metadata": {},
   "outputs": [
    {
     "data": {
      "image/png": "[encoded data removed]",
      "text/plain": [
       "<Figure size 432x288 with 1 Axes>"
      ]
     },
     "metadata": {
      "needs_background": "light"
     },
     "output_type": "display_data"
    }
   ],
   "source": [
    "import matplotlib.pyplot as plt\n",
    "\n",
    "itr = results1[3]\n",
    "plt.plot(itr, results1[2])\n",
    "plt.plot(itr, results2[2])\n",
    "plt.plot(itr, results3[2])\n",
    "plt.legend([\"alpha=1\", \"alpha=0.5\", \"alpha=0\"])\n",
    "plt.xlabel(\"Iterations\")\n",
    "plt.ylabel(\"Validation Accuracy\")\n",
    "plt.show()"
   ]
  },
  {
   "cell_type": "code",
   "execution_count": 38,
   "metadata": {},
   "outputs": [
    {
     "data": {
      "image/png": "[encoded data removed]",
      "text/plain": [
       "<Figure size 432x288 with 1 Axes>"
      ]
     },
     "metadata": {
      "needs_background": "light"
     },
     "output_type": "display_data"
    }
   ],
   "source": [
    "itr = results1[3][10:]\n",
    "plt.plot(itr, results1[2][10:])\n",
    "plt.plot(itr, results2[2][10:])\n",
    "plt.plot(itr, results3[2][10:])\n",
    "plt.legend([\"alpha=1\", \"alpha=0.5\", \"alpha=0\"])\n",
    "plt.xlabel(\"Iterations\")\n",
    "plt.ylabel(\"Validation Accuracy\")\n",
    "plt.show()"
   ]
  },
  {
   "cell_type": "code",
   "execution_count": 47,
   "metadata": {},
   "outputs": [
    {
     "data": {
      "text/plain": [
       "(0.8066, 0.8164, 0.8222)"
      ]
     },
     "execution_count": 47,
     "metadata": {},
     "output_type": "execute_result"
    }
   ],
   "source": [
    "results1[2][-1], results2[2][-1], results3[2][-1]"
   ]
  },
  {
   "cell_type": "code",
   "execution_count": 48,
   "metadata": {},
   "outputs": [
    {
     "data": {
      "text/plain": [
       "29"
      ]
     },
     "execution_count": 48,
     "metadata": {},
     "output_type": "execute_result"
    }
   ],
   "source": [
    "len(results1[2])"
   ]
  },
  {
   "cell_type": "code",
   "execution_count": null,
   "metadata": {},
   "outputs": [],
   "source": []
  }
 ],
 "metadata": {
  "kernelspec": {
   "display_name": "Python 3",
   "language": "python",
   "name": "python3"
  },
  "language_info": {
   "codemirror_mode": {
    "name": "ipython",
    "version": 3
   },
   "file_extension": ".py",
   "mimetype": "text/x-python",
   "name": "python",
   "nbconvert_exporter": "python",
   "pygments_lexer": "ipython3",
   "version": "3.8.5"
  }
 },
 "nbformat": 4,
 "nbformat_minor": 4
}
