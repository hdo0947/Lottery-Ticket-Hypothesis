{
 "cells": [
  {
   "cell_type": "code",
   "execution_count": 3,
   "metadata": {},
   "outputs": [],
   "source": [
    "import copy\n",
    "import torch\n",
    "import torch.nn as nn\n",
    "import torch.nn.functional as F\n",
    "import torchvision\n",
    "import matplotlib.pyplot as plt\n",
    "import checkpoint\n",
    "import torch.nn.utils.prune as prune\n",
    "from torchvision import transforms\n",
    "\n",
    "from dataset import MNIST_Dataset, CIFAR10_Dataset\n",
    "from prune_fns import prune_model\n",
    "from train import train, train_kd, test\n",
    "import models"
   ]
  },
  {
   "cell_type": "code",
   "execution_count": 4,
   "metadata": {},
   "outputs": [],
   "source": [
    "device = torch.device(\"cuda:0\" if (torch.cuda.is_available()) else \"cpu\")\n",
    "resnet18 = models.load_resnet18(num_out_class=10, device=device, pretrained=False)\n",
    "\n",
    "opt = torch.optim.SGD(resnet18.parameters(), lr=0.1, momentum=0.9, weight_decay=0.0001)\n",
    "#scheduler = torch.optim.lr_scheduler.CosineAnnealingLR(opt, T_max=200)\n",
    "scheduler = torch.optim.lr_scheduler.MultiStepLR(opt, [90, 136])\n",
    "config = {\n",
    "    'num_epoch' : 180,\n",
    "    'lr' : 0.001,\n",
    "    'beta1' : 0.9,\n",
    "    'batch_size' : 128,\n",
    "    'ckpt_path' : 'checkpoints/pruning_test/resnet18_0/',\n",
    "    'device' : device,\n",
    "    'val_freq' : 1000,\n",
    "    'opt' : opt,\n",
    "    'scheduler' : scheduler, \n",
    "    'crit' : nn.CrossEntropyLoss(),\n",
    "}"
   ]
  },
  {
   "cell_type": "code",
   "execution_count": 5,
   "metadata": {},
   "outputs": [],
   "source": [
    "dataset = CIFAR10_Dataset(config['batch_size'], dataset_path=\"./\", device=config['device'], val=5000)"
   ]
  },
  {
   "cell_type": "code",
   "execution_count": 6,
   "metadata": {},
   "outputs": [],
   "source": [
    "def conv_modules(resnet18):\n",
    "    conv_modules = list()\n",
    "    conv_modules.append((resnet18.conv1, \"weight\"))\n",
    "\n",
    "    for m in (resnet18.layer1, resnet18.layer2, resnet18.layer3, resnet18.layer4):\n",
    "        for i in range(2):\n",
    "            conv_modules.append((m[i].conv1, \"weight\"))\n",
    "            conv_modules.append((m[i].conv2, \"weight\"))\n",
    "            \n",
    "    return conv_modules"
   ]
  },
  {
   "cell_type": "code",
   "execution_count": 9,
   "metadata": {},
   "outputs": [
    {
     "name": "stdout",
     "output_type": "stream",
     "text": [
      "Which epoch to load from? Choose from epochs below:\n",
      "[0, 1, 2, 3, 4, 5, 90, 136, 180]\n",
      "Enter 0 to train from scratch.\n",
      ">> "
     ]
    },
    {
     "ename": "KeyboardInterrupt",
     "evalue": "Interrupted by user",
     "output_type": "error",
     "traceback": [
      "\u001b[1;31m---------------------------------------------------------------------------\u001b[0m",
      "\u001b[1;31mKeyboardInterrupt\u001b[0m                         Traceback (most recent call last)",
      "\u001b[1;32m<ipython-input-9-50f2f00230d1>\u001b[0m in \u001b[0;36m<module>\u001b[1;34m\u001b[0m\n\u001b[1;32m----> 1\u001b[1;33m \u001b[0mresults\u001b[0m \u001b[1;33m=\u001b[0m \u001b[0mtrain\u001b[0m\u001b[1;33m(\u001b[0m\u001b[0mconfig\u001b[0m\u001b[1;33m,\u001b[0m \u001b[0mdataset\u001b[0m\u001b[1;33m,\u001b[0m \u001b[0mresnet18\u001b[0m\u001b[1;33m,\u001b[0m \u001b[0msave_weights_iter\u001b[0m\u001b[1;33m=\u001b[0m\u001b[1;36m500\u001b[0m\u001b[1;33m,\u001b[0m \u001b[0mparams_to_save\u001b[0m\u001b[1;33m=\u001b[0m\u001b[0mconv_modules\u001b[0m\u001b[1;33m)\u001b[0m\u001b[1;33m\u001b[0m\u001b[1;33m\u001b[0m\u001b[0m\n\u001b[0m",
      "\u001b[1;32m~\\src\\EECS545\\eecs545_project\\train.py\u001b[0m in \u001b[0;36mtrain\u001b[1;34m(config, dataset, model, save_weights_iter, params_to_save, save_progress)\u001b[0m\n\u001b[0;32m     62\u001b[0m \u001b[1;33m\u001b[0m\u001b[0m\n\u001b[0;32m     63\u001b[0m     \u001b[1;32mif\u001b[0m \u001b[0msave_progress\u001b[0m\u001b[1;33m:\u001b[0m\u001b[1;33m\u001b[0m\u001b[1;33m\u001b[0m\u001b[0m\n\u001b[1;32m---> 64\u001b[1;33m         \u001b[0mmodel\u001b[0m\u001b[1;33m,\u001b[0m \u001b[0mopt\u001b[0m\u001b[1;33m,\u001b[0m \u001b[0mscheduler\u001b[0m\u001b[1;33m,\u001b[0m \u001b[0mstart_epoch\u001b[0m\u001b[1;33m,\u001b[0m \u001b[0mstats\u001b[0m \u001b[1;33m=\u001b[0m \u001b[0mcheckpoint\u001b[0m\u001b[1;33m.\u001b[0m\u001b[0mrestore_checkpoint\u001b[0m\u001b[1;33m(\u001b[0m\u001b[0mmodel\u001b[0m\u001b[1;33m,\u001b[0m \u001b[0mopt\u001b[0m\u001b[1;33m,\u001b[0m \u001b[0mscheduler\u001b[0m\u001b[1;33m,\u001b[0m \u001b[0mconfig\u001b[0m\u001b[1;33m[\u001b[0m\u001b[1;34m'ckpt_path'\u001b[0m\u001b[1;33m]\u001b[0m\u001b[1;33m,\u001b[0m \u001b[0mforce\u001b[0m\u001b[1;33m=\u001b[0m\u001b[0mforce\u001b[0m\u001b[1;33m,\u001b[0m \u001b[0mpretrain\u001b[0m\u001b[1;33m=\u001b[0m\u001b[1;32mFalse\u001b[0m\u001b[1;33m)\u001b[0m\u001b[1;33m\u001b[0m\u001b[1;33m\u001b[0m\u001b[0m\n\u001b[0m\u001b[0;32m     65\u001b[0m     \u001b[1;32melse\u001b[0m\u001b[1;33m:\u001b[0m\u001b[1;33m\u001b[0m\u001b[1;33m\u001b[0m\u001b[0m\n\u001b[0;32m     66\u001b[0m         \u001b[0mstart_epoch\u001b[0m\u001b[1;33m=\u001b[0m\u001b[1;36m0\u001b[0m\u001b[1;33m\u001b[0m\u001b[1;33m\u001b[0m\u001b[0m\n",
      "\u001b[1;32m~\\src\\EECS545\\eecs545_project\\checkpoint.py\u001b[0m in \u001b[0;36mrestore_checkpoint\u001b[1;34m(model, opt, scheduler, checkpoint_dir, cuda, force, pretrain)\u001b[0m\n\u001b[0;32m     59\u001b[0m         \u001b[0mprint\u001b[0m\u001b[1;33m(\u001b[0m\u001b[1;34m'Enter 0 to train from scratch.'\u001b[0m\u001b[1;33m)\u001b[0m\u001b[1;33m\u001b[0m\u001b[1;33m\u001b[0m\u001b[0m\n\u001b[0;32m     60\u001b[0m         \u001b[0mprint\u001b[0m\u001b[1;33m(\u001b[0m\u001b[1;34m\">> \"\u001b[0m\u001b[1;33m,\u001b[0m \u001b[0mend\u001b[0m\u001b[1;33m=\u001b[0m\u001b[1;34m''\u001b[0m\u001b[1;33m)\u001b[0m\u001b[1;33m\u001b[0m\u001b[1;33m\u001b[0m\u001b[0m\n\u001b[1;32m---> 61\u001b[1;33m         \u001b[0minp_epoch\u001b[0m \u001b[1;33m=\u001b[0m \u001b[0mint\u001b[0m\u001b[1;33m(\u001b[0m\u001b[0minput\u001b[0m\u001b[1;33m(\u001b[0m\u001b[1;33m)\u001b[0m\u001b[1;33m)\u001b[0m\u001b[1;33m\u001b[0m\u001b[1;33m\u001b[0m\u001b[0m\n\u001b[0m\u001b[0;32m     62\u001b[0m         \u001b[1;32mif\u001b[0m \u001b[0minp_epoch\u001b[0m \u001b[1;32mnot\u001b[0m \u001b[1;32min\u001b[0m \u001b[0mepochs\u001b[0m\u001b[1;33m:\u001b[0m\u001b[1;33m\u001b[0m\u001b[1;33m\u001b[0m\u001b[0m\n\u001b[0;32m     63\u001b[0m             \u001b[1;32mraise\u001b[0m \u001b[0mException\u001b[0m\u001b[1;33m(\u001b[0m\u001b[1;34m\"Invalid epoch number\"\u001b[0m\u001b[1;33m)\u001b[0m\u001b[1;33m\u001b[0m\u001b[1;33m\u001b[0m\u001b[0m\n",
      "\u001b[1;32m~\\Anaconda3\\envs\\ml_env\\lib\\site-packages\\ipykernel\\kernelbase.py\u001b[0m in \u001b[0;36mraw_input\u001b[1;34m(self, prompt)\u001b[0m\n\u001b[0;32m    858\u001b[0m                 \u001b[1;34m\"raw_input was called, but this frontend does not support input requests.\"\u001b[0m\u001b[1;33m\u001b[0m\u001b[1;33m\u001b[0m\u001b[0m\n\u001b[0;32m    859\u001b[0m             )\n\u001b[1;32m--> 860\u001b[1;33m         return self._input_request(str(prompt),\n\u001b[0m\u001b[0;32m    861\u001b[0m             \u001b[0mself\u001b[0m\u001b[1;33m.\u001b[0m\u001b[0m_parent_ident\u001b[0m\u001b[1;33m,\u001b[0m\u001b[1;33m\u001b[0m\u001b[1;33m\u001b[0m\u001b[0m\n\u001b[0;32m    862\u001b[0m             \u001b[0mself\u001b[0m\u001b[1;33m.\u001b[0m\u001b[0m_parent_header\u001b[0m\u001b[1;33m,\u001b[0m\u001b[1;33m\u001b[0m\u001b[1;33m\u001b[0m\u001b[0m\n",
      "\u001b[1;32m~\\Anaconda3\\envs\\ml_env\\lib\\site-packages\\ipykernel\\kernelbase.py\u001b[0m in \u001b[0;36m_input_request\u001b[1;34m(self, prompt, ident, parent, password)\u001b[0m\n\u001b[0;32m    902\u001b[0m             \u001b[1;32mexcept\u001b[0m \u001b[0mKeyboardInterrupt\u001b[0m\u001b[1;33m:\u001b[0m\u001b[1;33m\u001b[0m\u001b[1;33m\u001b[0m\u001b[0m\n\u001b[0;32m    903\u001b[0m                 \u001b[1;31m# re-raise KeyboardInterrupt, to truncate traceback\u001b[0m\u001b[1;33m\u001b[0m\u001b[1;33m\u001b[0m\u001b[1;33m\u001b[0m\u001b[0m\n\u001b[1;32m--> 904\u001b[1;33m                 \u001b[1;32mraise\u001b[0m \u001b[0mKeyboardInterrupt\u001b[0m\u001b[1;33m(\u001b[0m\u001b[1;34m\"Interrupted by user\"\u001b[0m\u001b[1;33m)\u001b[0m \u001b[1;32mfrom\u001b[0m \u001b[1;32mNone\u001b[0m\u001b[1;33m\u001b[0m\u001b[1;33m\u001b[0m\u001b[0m\n\u001b[0m\u001b[0;32m    905\u001b[0m             \u001b[1;32mexcept\u001b[0m \u001b[0mException\u001b[0m \u001b[1;32mas\u001b[0m \u001b[0me\u001b[0m\u001b[1;33m:\u001b[0m\u001b[1;33m\u001b[0m\u001b[1;33m\u001b[0m\u001b[0m\n\u001b[0;32m    906\u001b[0m                 \u001b[0mself\u001b[0m\u001b[1;33m.\u001b[0m\u001b[0mlog\u001b[0m\u001b[1;33m.\u001b[0m\u001b[0mwarning\u001b[0m\u001b[1;33m(\u001b[0m\u001b[1;34m\"Invalid Message:\"\u001b[0m\u001b[1;33m,\u001b[0m \u001b[0mexc_info\u001b[0m\u001b[1;33m=\u001b[0m\u001b[1;32mTrue\u001b[0m\u001b[1;33m)\u001b[0m\u001b[1;33m\u001b[0m\u001b[1;33m\u001b[0m\u001b[0m\n",
      "\u001b[1;31mKeyboardInterrupt\u001b[0m: Interrupted by user"
     ]
    }
   ],
   "source": [
    "results = train(config, dataset, resnet18, save_weights_iter=500, params_to_save=conv_modules)"
   ]
  },
  {
   "cell_type": "code",
   "execution_count": null,
   "metadata": {},
   "outputs": [],
   "source": [
    "current_conv_modules = conv_modules(resnet18)"
   ]
  },
  {
   "cell_type": "code",
   "execution_count": null,
   "metadata": {},
   "outputs": [],
   "source": [
    "prune_model(resnet18, 0.2, current_conv_modules, device)"
   ]
  },
  {
   "cell_type": "code",
   "execution_count": null,
   "metadata": {},
   "outputs": [],
   "source": [
    "opt = torch.optim.SGD(resnet18.parameters(), lr=0.1, momentum=0.9, weight_decay=0.0001)\n",
    "#scheduler = torch.optim.lr_scheduler.CosineAnnealingLR(opt, T_max=200)\n",
    "scheduler = torch.optim.lr_scheduler.MultiStepLR(opt, [90, 136])\n",
    "config = {\n",
    "    'num_epoch' : 180,\n",
    "    'lr' : 0.001,\n",
    "    'beta1' : 0.9,\n",
    "    'batch_size' : 128,\n",
    "    'ckpt_path' : 'checkpoints/pruning_test/resnet18_2/',\n",
    "    'device' : device,\n",
    "    'val_freq' : 1000,\n",
    "    'opt' : opt,\n",
    "    'scheduler' : scheduler, \n",
    "}"
   ]
  },
  {
   "cell_type": "code",
   "execution_count": null,
   "metadata": {},
   "outputs": [],
   "source": [
    "results2 = train(config, dataset, resnet18, save_weights_iter=500, params_to_save=conv_modules)"
   ]
  },
  {
   "cell_type": "code",
   "execution_count": null,
   "metadata": {},
   "outputs": [],
   "source": [
    "current_conv_modules = conv_modules(resnet18)\n",
    "prune_model(resnet18, 0.2, current_conv_modules, device)"
   ]
  },
  {
   "cell_type": "code",
   "execution_count": null,
   "metadata": {},
   "outputs": [],
   "source": [
    "opt = torch.optim.SGD(resnet18.parameters(), lr=0.1, momentum=0.9, weight_decay=0.0001)\n",
    "#scheduler = torch.optim.lr_scheduler.CosineAnnealingLR(opt, T_max=200)\n",
    "scheduler = torch.optim.lr_scheduler.MultiStepLR(opt, [90, 136])\n",
    "config['opt'] = opt\n",
    "config['scheduler'] = scheduler\n",
    "config['ckpt_path'] = 'checkpoints/pruning_test/resnet18_3/'\n",
    "results2 = train(config, dataset, resnet18, save_weights_iter=500, params_to_save=conv_modules)"
   ]
  },
  {
   "cell_type": "code",
   "execution_count": null,
   "metadata": {},
   "outputs": [],
   "source": [
    "current_conv_modules = conv_modules(resnet18)\n",
    "prune_model(resnet18, 0.2, current_conv_modules, device)"
   ]
  },
  {
   "cell_type": "code",
   "execution_count": null,
   "metadata": {},
   "outputs": [],
   "source": [
    "opt = torch.optim.SGD(resnet18.parameters(), lr=0.1, momentum=0.9, weight_decay=0.0001)\n",
    "#scheduler = torch.optim.lr_scheduler.CosineAnnealingLR(opt, T_max=200)\n",
    "scheduler = torch.optim.lr_scheduler.MultiStepLR(opt, [90, 136])\n",
    "config['opt'] = opt\n",
    "config['scheduler'] = scheduler\n",
    "config['ckpt_path'] = 'checkpoints/pruning_test/resnet18_4/'\n",
    "results2 = train(config, dataset, resnet18, save_weights_iter=500, params_to_save=conv_modules)"
   ]
  },
  {
   "cell_type": "code",
   "execution_count": null,
   "metadata": {},
   "outputs": [],
   "source": [
    "current_conv_modules = conv_modules(resnet18)\n",
    "prune_model(resnet18, 0.2, current_conv_modules, device)"
   ]
  },
  {
   "cell_type": "code",
   "execution_count": null,
   "metadata": {},
   "outputs": [],
   "source": [
    "opt = torch.optim.SGD(resnet18.parameters(), lr=0.1, momentum=0.9, weight_decay=0.0001)\n",
    "#scheduler = torch.optim.lr_scheduler.CosineAnnealingLR(opt, T_max=200)\n",
    "scheduler = torch.optim.lr_scheduler.MultiStepLR(opt, [90, 136])\n",
    "config['opt'] = opt\n",
    "config['scheduler'] = scheduler\n",
    "config['ckpt_path'] = 'checkpoints/pruning_test/resnet18_6/'\n",
    "results2 = train(config, dataset, resnet18, save_weights_iter=500, params_to_save=conv_modules)"
   ]
  },
  {
   "cell_type": "code",
   "execution_count": null,
   "metadata": {},
   "outputs": [],
   "source": [
    "current_conv_modules = conv_modules(resnet18)\n",
    "prune_model(resnet18, 0.2, current_conv_modules, device)\n",
    "opt = torch.optim.SGD(resnet18.parameters(), lr=0.1, momentum=0.9, weight_decay=0.0001)\n",
    "#scheduler = torch.optim.lr_scheduler.CosineAnnealingLR(opt, T_max=200)\n",
    "scheduler = torch.optim.lr_scheduler.MultiStepLR(opt, [90, 136])\n",
    "config['opt'] = opt\n",
    "config['scheduler'] = scheduler\n",
    "config['ckpt_path'] = 'checkpoints/pruning_test/resnet18_7/'\n",
    "results2 = train(config, dataset, resnet18, save_weights_iter=500, params_to_save=conv_modules)"
   ]
  },
  {
   "cell_type": "code",
   "execution_count": null,
   "metadata": {},
   "outputs": [],
   "source": [
    "current_conv_modules = conv_modules(resnet18)\n",
    "prune_model(resnet18, 0.2, current_conv_modules, device)\n",
    "opt = torch.optim.SGD(resnet18.parameters(), lr=0.1, momentum=0.9, weight_decay=0.0001)\n",
    "#scheduler = torch.optim.lr_scheduler.CosineAnnealingLR(opt, T_max=200)\n",
    "scheduler = torch.optim.lr_scheduler.MultiStepLR(opt, [90, 136])\n",
    "config['opt'] = opt\n",
    "config['scheduler'] = scheduler\n",
    "config['ckpt_path'] = 'checkpoints/pruning_test/resnet18_8/'\n",
    "results2 = train(config, dataset, resnet18, save_weights_iter=500, params_to_save=conv_modules)"
   ]
  },
  {
   "cell_type": "code",
   "execution_count": null,
   "metadata": {},
   "outputs": [],
   "source": [
    "current_conv_modules = conv_modules(resnet18)\n",
    "prune_model(resnet18, 0.2, current_conv_modules, device)\n",
    "opt = torch.optim.SGD(resnet18.parameters(), lr=0.1, momentum=0.9, weight_decay=0.0001)\n",
    "#scheduler = torch.optim.lr_scheduler.CosineAnnealingLR(opt, T_max=200)\n",
    "scheduler = torch.optim.lr_scheduler.MultiStepLR(opt, [90, 136])\n",
    "config['opt'] = opt\n",
    "config['scheduler'] = scheduler\n",
    "config['ckpt_path'] = 'checkpoints/pruning_test/resnet18_8/'\n",
    "results2 = train(config, dataset, resnet18, save_weights_iter=500, params_to_save=conv_modules)"
   ]
  },
  {
   "cell_type": "code",
   "execution_count": 7,
   "metadata": {},
   "outputs": [
    {
     "name": "stdout",
     "output_type": "stream",
     "text": [
      "Which epoch to load from? Choose from epochs below:\n",
      "[0, 1, 2, 3, 4, 5, 90, 136, 180]\n",
      "Enter 0 to train from scratch.\n",
      ">> "
     ]
    },
    {
     "name": "stdin",
     "output_type": "stream",
     "text": [
      " 180\n"
     ]
    },
    {
     "name": "stdout",
     "output_type": "stream",
     "text": [
      "Loading from checkpoint checkpoints/pruning_test/resnet18_0/epoch=180.checkpoint.pth.tar\n",
      "=> Successfully restored checkpoint (trained for 180 epochs)\n",
      "Which epoch to load from? Choose from epochs below:\n",
      "[0, 1, 90, 136, 180]\n",
      "Enter 0 to train from scratch.\n",
      ">> "
     ]
    },
    {
     "name": "stdin",
     "output_type": "stream",
     "text": [
      " 180\n"
     ]
    },
    {
     "name": "stdout",
     "output_type": "stream",
     "text": [
      "Loading from checkpoint checkpoints/pruning_test/resnet18_1\\epoch=180.checkpoint.pth.tar\n",
      "=> Successfully restored checkpoint (trained for 180 epochs)\n",
      "Which epoch to load from? Choose from epochs below:\n",
      "[0, 1, 90, 136, 180]\n",
      "Enter 0 to train from scratch.\n",
      ">> "
     ]
    },
    {
     "name": "stdin",
     "output_type": "stream",
     "text": [
      " 180\n"
     ]
    },
    {
     "name": "stdout",
     "output_type": "stream",
     "text": [
      "Loading from checkpoint checkpoints/pruning_test/resnet18_2\\epoch=180.checkpoint.pth.tar\n",
      "=> Successfully restored checkpoint (trained for 180 epochs)\n",
      "Which epoch to load from? Choose from epochs below:\n",
      "[0, 1, 90, 136, 180]\n",
      "Enter 0 to train from scratch.\n",
      ">> "
     ]
    },
    {
     "name": "stdin",
     "output_type": "stream",
     "text": [
      " 180\n"
     ]
    },
    {
     "name": "stdout",
     "output_type": "stream",
     "text": [
      "Loading from checkpoint checkpoints/pruning_test/resnet18_3\\epoch=180.checkpoint.pth.tar\n",
      "=> Successfully restored checkpoint (trained for 180 epochs)\n",
      "Which epoch to load from? Choose from epochs below:\n",
      "[0, 1, 90, 136, 180]\n",
      "Enter 0 to train from scratch.\n",
      ">> "
     ]
    },
    {
     "name": "stdin",
     "output_type": "stream",
     "text": [
      " 180\n"
     ]
    },
    {
     "name": "stdout",
     "output_type": "stream",
     "text": [
      "Loading from checkpoint checkpoints/pruning_test/resnet18_4\\epoch=180.checkpoint.pth.tar\n",
      "=> Successfully restored checkpoint (trained for 180 epochs)\n",
      "Which epoch to load from? Choose from epochs below:\n",
      "[0, 1, 90, 136, 180]\n",
      "Enter 0 to train from scratch.\n",
      ">> "
     ]
    },
    {
     "name": "stdin",
     "output_type": "stream",
     "text": [
      " 180\n"
     ]
    },
    {
     "name": "stdout",
     "output_type": "stream",
     "text": [
      "Loading from checkpoint checkpoints/pruning_test/resnet18_5\\epoch=180.checkpoint.pth.tar\n",
      "=> Successfully restored checkpoint (trained for 180 epochs)\n",
      "Which epoch to load from? Choose from epochs below:\n",
      "[0, 1, 90, 136, 180]\n",
      "Enter 0 to train from scratch.\n",
      ">> "
     ]
    },
    {
     "name": "stdin",
     "output_type": "stream",
     "text": [
      " 180\n"
     ]
    },
    {
     "name": "stdout",
     "output_type": "stream",
     "text": [
      "Loading from checkpoint checkpoints/pruning_test/resnet18_6\\epoch=180.checkpoint.pth.tar\n",
      "=> Successfully restored checkpoint (trained for 180 epochs)\n",
      "Which epoch to load from? Choose from epochs below:\n",
      "[0, 1, 90, 136, 180]\n",
      "Enter 0 to train from scratch.\n",
      ">> "
     ]
    },
    {
     "name": "stdin",
     "output_type": "stream",
     "text": [
      " 180\n"
     ]
    },
    {
     "name": "stdout",
     "output_type": "stream",
     "text": [
      "Loading from checkpoint checkpoints/pruning_test/resnet18_7\\epoch=180.checkpoint.pth.tar\n",
      "=> Successfully restored checkpoint (trained for 180 epochs)\n"
     ]
    }
   ],
   "source": [
    "# Load saved checkpoints and get test data\n",
    "results0 = train(config, dataset, resnet18, save_weights_iter=500, params_to_save=conv_modules)\n",
    "\n",
    "models.checkpoint_weights(resnet18, conv_modules)\n",
    "prune_model(resnet18, 0.0, conv_modules, device)\n",
    "\n",
    "config['ckpt_path'] = 'checkpoints/pruning_test/resnet18_1'\n",
    "results1 = train(config, dataset, resnet18, save_weights_iter=500, params_to_save=conv_modules)\n",
    "\n",
    "config['ckpt_path'] = 'checkpoints/pruning_test/resnet18_2'\n",
    "results2 = train(config, dataset, resnet18, save_weights_iter=500, params_to_save=conv_modules)\n",
    "\n",
    "config['ckpt_path'] = 'checkpoints/pruning_test/resnet18_3'\n",
    "results3 = train(config, dataset, resnet18, save_weights_iter=500, params_to_save=conv_modules)\n",
    "\n",
    "config['ckpt_path'] = 'checkpoints/pruning_test/resnet18_4'\n",
    "results4 = train(config, dataset, resnet18, save_weights_iter=500, params_to_save=conv_modules)\n",
    "\n",
    "config['ckpt_path'] = 'checkpoints/pruning_test/resnet18_5'\n",
    "results5 = train(config, dataset, resnet18, save_weights_iter=500, params_to_save=conv_modules)\n",
    "\n",
    "config['ckpt_path'] = 'checkpoints/pruning_test/resnet18_6'\n",
    "results6 = train(config, dataset, resnet18, save_weights_iter=500, params_to_save=conv_modules)\n",
    "\n",
    "config['ckpt_path'] = 'checkpoints/pruning_test/resnet18_7'\n",
    "results7 = train(config, dataset, resnet18, save_weights_iter=500, params_to_save=conv_modules)"
   ]
  },
  {
   "cell_type": "code",
   "execution_count": 13,
   "metadata": {},
   "outputs": [
    {
     "data": {
      "image/png": "[encoded data removed]",
      "text/plain": [
       "<Figure size 432x288 with 1 Axes>"
      ]
     },
     "metadata": {
      "needs_background": "light"
     },
     "output_type": "display_data"
    }
   ],
   "source": [
    "test_acc = [i[-2] for i in (results0, results1, results2, results3, results4, results5, results6, results7)]\n",
    "\n",
    "import matplotlib.pyplot as plt\n",
    "plt.plot(test_acc)\n",
    "plt.ylim((0.85, 0.88))\n",
    "plt.xlabel(\"Pct Weights Remaining\")\n",
    "plt.ylabel(\"Test Accuracy\")\n",
    "plt.xticks(ticks=range(8), labels=[\"{:.2f}\".format(0.8**i) for i in range(8)])\n",
    "plt.show()"
   ]
  },
  {
   "cell_type": "code",
   "execution_count": 32,
   "metadata": {},
   "outputs": [
    {
     "data": {
      "text/plain": [
       "[<matplotlib.lines.Line2D at 0x1be3b082b80>]"
      ]
     },
     "execution_count": 32,
     "metadata": {},
     "output_type": "execute_result"
    },
    {
     "data": {
      "image/png": "[encoded data removed]",
      "text/plain": [
       "<Figure size 432x288 with 1 Axes>"
      ]
     },
     "metadata": {
      "needs_background": "light"
     },
     "output_type": "display_data"
    }
   ],
   "source": [
    "plt.plot([i / 355 for i in results1[3]], results1[2])"
   ]
  },
  {
   "cell_type": "code",
   "execution_count": 18,
   "metadata": {},
   "outputs": [
    {
     "data": {
      "text/plain": [
       "[0.81, 0.8102, 0.8048, 0.8056, 0.8104, 0.8186, 0.8076]"
      ]
     },
     "execution_count": 18,
     "metadata": {},
     "output_type": "execute_result"
    }
   ],
   "source": [
    "[i[2][29] for i in (results1, results2, results3, results4, results5, results6, results7)]"
   ]
  },
  {
   "cell_type": "code",
   "execution_count": null,
   "metadata": {},
   "outputs": [],
   "source": []
  },
  {
   "cell_type": "code",
   "execution_count": null,
   "metadata": {},
   "outputs": [],
   "source": []
  }
 ],
 "metadata": {
  "kernelspec": {
   "display_name": "Python 3",
   "language": "python",
   "name": "python3"
  },
  "language_info": {
   "codemirror_mode": {
    "name": "ipython",
    "version": 3
   },
   "file_extension": ".py",
   "mimetype": "text/x-python",
   "name": "python",
   "nbconvert_exporter": "python",
   "pygments_lexer": "ipython3",
   "version": "3.8.5"
  }
 },
 "nbformat": 4,
 "nbformat_minor": 4
}
